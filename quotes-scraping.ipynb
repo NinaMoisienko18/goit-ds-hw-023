{
 "cells": [
  {
   "cell_type": "code",
   "execution_count": 1,
   "id": "6163b958-63ff-4b9b-a630-6c855007c7c9",
   "metadata": {
    "tags": []
   },
   "outputs": [],
   "source": [
    "import requests\n",
    "from bs4 import BeautifulSoup\n",
    "import re"
   ]
  },
  {
   "cell_type": "code",
   "execution_count": 2,
   "id": "5cdb941e-469e-43d4-a13a-eb5c300890d1",
   "metadata": {
    "tags": []
   },
   "outputs": [],
   "source": [
    "URL = \"https://quotes.toscrape.com/\""
   ]
  },
  {
   "cell_type": "code",
   "execution_count": 117,
   "id": "3166aa3a-03c6-47ec-b039-2a45116ec3b1",
   "metadata": {
    "tags": []
   },
   "outputs": [
    {
     "name": "stdout",
     "output_type": "stream",
     "text": [
      "['http://quotes.toscrape.com/', 'http://quotes.toscrape.com/page/2/', 'http://quotes.toscrape.com/page/3/', 'http://quotes.toscrape.com/page/4/', 'http://quotes.toscrape.com/page/5/', 'http://quotes.toscrape.com/page/6/', 'http://quotes.toscrape.com/page/7/', 'http://quotes.toscrape.com/page/8/', 'http://quotes.toscrape.com/page/9/', 'http://quotes.toscrape.com/page/10/']\n"
     ]
    }
   ],
   "source": [
    "base_url = \"http://quotes.toscrape.com/\"\n",
    "url_lists = []\n",
    "url_lists.append(base_url)\n",
    "for i in range(2, 11):\n",
    "    url = base_url + \"page\" + \"/\" + str(i) + \"/\"\n",
    "    url_lists.append(url)\n",
    "print(url_lists)\n"
   ]
  },
  {
   "cell_type": "code",
   "execution_count": 129,
   "id": "3ae977ec-2c5f-4b6f-ae3e-1848f1c389c9",
   "metadata": {
    "tags": []
   },
   "outputs": [],
   "source": [
    "quote_data = []\n",
    "\n",
    "for page in url_lists:\n",
    "    html_doc = requests.get(page)\n",
    "    soup = BeautifulSoup(html_doc.text, 'html.parser')\n",
    "    content = soup.find_all(\"div\", class_ = \"quote\")\n",
    "\n",
    "    for _ in content:\n",
    "        quotes_dict = {}\n",
    "\n",
    "        tags_meta = _.find(\"meta\", attrs={'class': 'keywords'})['content']\n",
    "        tags = tags_meta.split(',')\n",
    "        quotes_dict[\"tags\"] = tags\n",
    "        \n",
    "        author = _.find(\"small\", attrs={'class': 'author'}).text\n",
    "        content_list.append(author)\n",
    "        quotes_dict[\"author\"] = author\n",
    "        authors.append(author)\n",
    "\n",
    "        soup = BeautifulSoup(html_doc.text, 'html.parser')\n",
    "        quote = _.find(\"span\", attrs={'class': 'text'}).text\n",
    "        content_list.append(quote)\n",
    "        quotes_dict[\"quote\"] = quote\n",
    "        \n",
    "        quote_data.append(quotes_dict)\n",
    "\n"
   ]
  },
  {
   "cell_type": "code",
   "execution_count": 130,
   "id": "2abcf2fa-8f2c-4d2a-9cd7-d8518106031a",
   "metadata": {
    "tags": []
   },
   "outputs": [],
   "source": [
    "import json\n",
    "with open('qoutes.json', 'w', encoding = 'utf-8') as f:\n",
    "    json.dump(quote_data, f, ensure_ascii=False, indent=4)"
   ]
  },
  {
   "cell_type": "code",
   "execution_count": 141,
   "id": "33437516-dda8-4335-993b-c07e36dea61e",
   "metadata": {
    "tags": []
   },
   "outputs": [
    {
     "name": "stdout",
     "output_type": "stream",
     "text": [
      "['Albert-Einstein', 'J-K-Rowling', 'Albert-Einstein', 'Jane-Austen', 'Marilyn-Monroe', 'Albert-Einstein', 'André-Gide', 'Thomas-A-Edison', 'Eleanor-Roosevelt', 'Steve-Martin', 'Marilyn-Monroe', 'J-K-Rowling', 'Albert-Einstein', 'Bob-Marley', 'Dr-Seuss', 'Douglas-Adams', 'Elie-Wiesel', 'Friedrich-Nietzsche', 'Mark-Twain', 'Allen-Saunders', 'Pablo-Neruda', 'Ralph-Waldo-Emerson', 'Mother-Teresa', 'Garrison-Keillor', 'Jim-Henson', 'Dr-Seuss', 'Albert-Einstein', 'J-K-Rowling', 'Albert-Einstein', 'Bob-Marley', 'Dr-Seuss', 'J-K-Rowling', 'Bob-Marley', 'Mother-Teresa', 'J-K-Rowling', 'Charles-M-Schulz', 'William-Nicholson', 'Albert-Einstein', 'Jorge-Luis-Borges', 'George-Eliot', 'George-R-R-Martin', 'C-S-Lewis', 'Marilyn-Monroe', 'Marilyn-Monroe', 'Albert-Einstein', 'Marilyn-Monroe', 'Marilyn-Monroe', 'Martin-Luther-King-Jr-', 'J-K-Rowling', 'James-Baldwin', 'Jane-Austen', 'Eleanor-Roosevelt', 'Marilyn-Monroe', 'Albert-Einstein', 'Haruki-Murakami', 'Alexandre-Dumas-fils', 'Stephenie-Meyer', 'Ernest-Hemingway', 'Helen-Keller', 'George-Bernard-Shaw', 'Charles-Bukowski', 'Suzanne-Collins', 'Suzanne-Collins', 'C-S-Lewis', 'J-R-R-Tolkien', 'J-K-Rowling', 'Ernest-Hemingway', 'Ralph-Waldo-Emerson', 'Mark-Twain', 'Dr-Seuss', 'Alfred-Tennyson', 'Charles-Bukowski', 'Terry-Pratchett', 'Dr-Seuss', 'J-D-Salinger', 'George-Carlin', 'John-Lennon', 'W-C-Fields', 'Ayn-Rand', 'Mark-Twain', 'Albert-Einstein', 'Jane-Austen', 'J-K-Rowling', 'Jane-Austen', 'Jane-Austen', 'C-S-Lewis', 'C-S-Lewis', 'Mark-Twain', 'Mark-Twain', 'C-S-Lewis', 'J-K-Rowling', 'Jimi-Hendrix', 'J-M-Barrie', 'E-E-Cummings', 'Khaled-Hosseini', 'Harper-Lee', \"Madeleine-L'Engle\", 'Mark-Twain', 'Dr-Seuss', 'George-R-R-Martin']\n"
     ]
    }
   ],
   "source": [
    "auth = []\n",
    "for i in authors:\n",
    "    author = i.replace('.', '-').replace(' ', '-').replace(\"--\", \"-\")\n",
    "    auth.append(author)\n",
    "print(auth)\n"
   ]
  },
  {
   "cell_type": "code",
   "execution_count": 144,
   "id": "36556f62-73a7-49c8-8e28-cf03982781aa",
   "metadata": {
    "tags": []
   },
   "outputs": [
    {
     "name": "stdout",
     "output_type": "stream",
     "text": [
      "['http://quotes.toscrape.com/author/Albert-Einstein/', 'http://quotes.toscrape.com/author/J-K-Rowling/', 'http://quotes.toscrape.com/author/Albert-Einstein/', 'http://quotes.toscrape.com/author/Jane-Austen/', 'http://quotes.toscrape.com/author/Marilyn-Monroe/', 'http://quotes.toscrape.com/author/Albert-Einstein/', 'http://quotes.toscrape.com/author/André-Gide/', 'http://quotes.toscrape.com/author/Thomas-A-Edison/', 'http://quotes.toscrape.com/author/Eleanor-Roosevelt/', 'http://quotes.toscrape.com/author/Steve-Martin/', 'http://quotes.toscrape.com/author/Marilyn-Monroe/', 'http://quotes.toscrape.com/author/J-K-Rowling/', 'http://quotes.toscrape.com/author/Albert-Einstein/', 'http://quotes.toscrape.com/author/Bob-Marley/', 'http://quotes.toscrape.com/author/Dr-Seuss/', 'http://quotes.toscrape.com/author/Douglas-Adams/', 'http://quotes.toscrape.com/author/Elie-Wiesel/', 'http://quotes.toscrape.com/author/Friedrich-Nietzsche/', 'http://quotes.toscrape.com/author/Mark-Twain/', 'http://quotes.toscrape.com/author/Allen-Saunders/', 'http://quotes.toscrape.com/author/Pablo-Neruda/', 'http://quotes.toscrape.com/author/Ralph-Waldo-Emerson/', 'http://quotes.toscrape.com/author/Mother-Teresa/', 'http://quotes.toscrape.com/author/Garrison-Keillor/', 'http://quotes.toscrape.com/author/Jim-Henson/', 'http://quotes.toscrape.com/author/Dr-Seuss/', 'http://quotes.toscrape.com/author/Albert-Einstein/', 'http://quotes.toscrape.com/author/J-K-Rowling/', 'http://quotes.toscrape.com/author/Albert-Einstein/', 'http://quotes.toscrape.com/author/Bob-Marley/', 'http://quotes.toscrape.com/author/Dr-Seuss/', 'http://quotes.toscrape.com/author/J-K-Rowling/', 'http://quotes.toscrape.com/author/Bob-Marley/', 'http://quotes.toscrape.com/author/Mother-Teresa/', 'http://quotes.toscrape.com/author/J-K-Rowling/', 'http://quotes.toscrape.com/author/Charles-M-Schulz/', 'http://quotes.toscrape.com/author/William-Nicholson/', 'http://quotes.toscrape.com/author/Albert-Einstein/', 'http://quotes.toscrape.com/author/Jorge-Luis-Borges/', 'http://quotes.toscrape.com/author/George-Eliot/', 'http://quotes.toscrape.com/author/George-R-R-Martin/', 'http://quotes.toscrape.com/author/C-S-Lewis/', 'http://quotes.toscrape.com/author/Marilyn-Monroe/', 'http://quotes.toscrape.com/author/Marilyn-Monroe/', 'http://quotes.toscrape.com/author/Albert-Einstein/', 'http://quotes.toscrape.com/author/Marilyn-Monroe/', 'http://quotes.toscrape.com/author/Marilyn-Monroe/', 'http://quotes.toscrape.com/author/Martin-Luther-King-Jr-/', 'http://quotes.toscrape.com/author/J-K-Rowling/', 'http://quotes.toscrape.com/author/James-Baldwin/', 'http://quotes.toscrape.com/author/Jane-Austen/', 'http://quotes.toscrape.com/author/Eleanor-Roosevelt/', 'http://quotes.toscrape.com/author/Marilyn-Monroe/', 'http://quotes.toscrape.com/author/Albert-Einstein/', 'http://quotes.toscrape.com/author/Haruki-Murakami/', 'http://quotes.toscrape.com/author/Alexandre-Dumas-fils/', 'http://quotes.toscrape.com/author/Stephenie-Meyer/', 'http://quotes.toscrape.com/author/Ernest-Hemingway/', 'http://quotes.toscrape.com/author/Helen-Keller/', 'http://quotes.toscrape.com/author/George-Bernard-Shaw/', 'http://quotes.toscrape.com/author/Charles-Bukowski/', 'http://quotes.toscrape.com/author/Suzanne-Collins/', 'http://quotes.toscrape.com/author/Suzanne-Collins/', 'http://quotes.toscrape.com/author/C-S-Lewis/', 'http://quotes.toscrape.com/author/J-R-R-Tolkien/', 'http://quotes.toscrape.com/author/J-K-Rowling/', 'http://quotes.toscrape.com/author/Ernest-Hemingway/', 'http://quotes.toscrape.com/author/Ralph-Waldo-Emerson/', 'http://quotes.toscrape.com/author/Mark-Twain/', 'http://quotes.toscrape.com/author/Dr-Seuss/', 'http://quotes.toscrape.com/author/Alfred-Tennyson/', 'http://quotes.toscrape.com/author/Charles-Bukowski/', 'http://quotes.toscrape.com/author/Terry-Pratchett/', 'http://quotes.toscrape.com/author/Dr-Seuss/', 'http://quotes.toscrape.com/author/J-D-Salinger/', 'http://quotes.toscrape.com/author/George-Carlin/', 'http://quotes.toscrape.com/author/John-Lennon/', 'http://quotes.toscrape.com/author/W-C-Fields/', 'http://quotes.toscrape.com/author/Ayn-Rand/', 'http://quotes.toscrape.com/author/Mark-Twain/', 'http://quotes.toscrape.com/author/Albert-Einstein/', 'http://quotes.toscrape.com/author/Jane-Austen/', 'http://quotes.toscrape.com/author/J-K-Rowling/', 'http://quotes.toscrape.com/author/Jane-Austen/', 'http://quotes.toscrape.com/author/Jane-Austen/', 'http://quotes.toscrape.com/author/C-S-Lewis/', 'http://quotes.toscrape.com/author/C-S-Lewis/', 'http://quotes.toscrape.com/author/Mark-Twain/', 'http://quotes.toscrape.com/author/Mark-Twain/', 'http://quotes.toscrape.com/author/C-S-Lewis/', 'http://quotes.toscrape.com/author/J-K-Rowling/', 'http://quotes.toscrape.com/author/Jimi-Hendrix/', 'http://quotes.toscrape.com/author/J-M-Barrie/', 'http://quotes.toscrape.com/author/E-E-Cummings/', 'http://quotes.toscrape.com/author/Khaled-Hosseini/', 'http://quotes.toscrape.com/author/Harper-Lee/', \"http://quotes.toscrape.com/author/Madeleine-L'Engle/\", 'http://quotes.toscrape.com/author/Mark-Twain/', 'http://quotes.toscrape.com/author/Dr-Seuss/', 'http://quotes.toscrape.com/author/George-R-R-Martin/']\n"
     ]
    }
   ],
   "source": [
    "base_url_biography = \"http://quotes.toscrape.com/author/\"\n",
    "url_lists_auth = []\n",
    "for i in auth:\n",
    "    url = base_url_biography + str(i) + \"/\"\n",
    "    url_lists_auth.append(url)\n",
    "print(url_lists_auth)\n"
   ]
  },
  {
   "cell_type": "code",
   "execution_count": 160,
   "id": "0f5e5b32-8189-4844-8719-2e482a543894",
   "metadata": {
    "tags": []
   },
   "outputs": [],
   "source": [
    "authors = []\n",
    "\n",
    "for page in url_lists_auth:\n",
    "    html_doc = requests.get(page)\n",
    "    soup = BeautifulSoup(html_doc.text, 'html.parser')\n",
    "\n",
    "    content = soup.find_all(\"div\", class_ = \"author-details\")\n",
    "    content\n",
    "    for _ in content:\n",
    "        authors_data = {}\n",
    "\n",
    "        fullname = _.find(\"h3\", attrs={'class': 'author-title'}).text\n",
    "        authors_data[\"fullname\"] = fullname\n",
    "\n",
    "        born_date = _.find(\"span\", attrs={'class': 'author-born-date'}).text\n",
    "        authors_data[\"born_date\"] = born_date\n",
    "\n",
    "        born_location = _.find(\"span\", attrs={'class': 'author-born-location'}).text\n",
    "        authors_data[\"born_location\"] = born_location\n",
    "\n",
    "        description = _.find(\"div\", attrs={'class': 'author-description'}).text\n",
    "        description = description.replace(\"\\'\", \"'\")\n",
    "        description = description.replace('\\n', '\\\\')\n",
    "        description = description.replace('\"', '\\\\')\n",
    "\n",
    "\n",
    "        authors_data[\"description\"] = description\n",
    "\n",
    "        authors.append(authors_data)\n",
    "\n",
    "# authors\n",
    "\n"
   ]
  },
  {
   "cell_type": "code",
   "execution_count": 161,
   "id": "32f836cf-4bf9-4daa-b42c-b14aa686768f",
   "metadata": {
    "tags": []
   },
   "outputs": [],
   "source": [
    "with open('authors.json', 'w', encoding = 'utf-8') as f:\n",
    "    json.dump(authors, f, ensure_ascii=False, indent=4)"
   ]
  },
  {
   "cell_type": "code",
   "execution_count": null,
   "id": "571eeda8-ec15-4a31-b309-ee62576fe2bb",
   "metadata": {},
   "outputs": [],
   "source": []
  }
 ],
 "metadata": {
  "kernelspec": {
   "display_name": "Python 3 (ipykernel)",
   "language": "python",
   "name": "python3"
  },
  "language_info": {
   "codemirror_mode": {
    "name": "ipython",
    "version": 3
   },
   "file_extension": ".py",
   "mimetype": "text/x-python",
   "name": "python",
   "nbconvert_exporter": "python",
   "pygments_lexer": "ipython3",
   "version": "3.11.5"
  }
 },
 "nbformat": 4,
 "nbformat_minor": 5
}
